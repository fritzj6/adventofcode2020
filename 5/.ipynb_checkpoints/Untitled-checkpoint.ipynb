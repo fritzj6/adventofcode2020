{
 "cells": [
  {
   "cell_type": "code",
   "execution_count": 1,
   "metadata": {},
   "outputs": [],
   "source": [
    "import numpy, stackprinter\n",
    "\n",
    "stackprinter.set_excepthook(style='lightbg')"
   ]
  },
  {
   "cell_type": "code",
   "execution_count": 2,
   "metadata": {},
   "outputs": [],
   "source": [
    "def to_bin(string):\n",
    "    switch_case = {\n",
    "        'F': '0',\n",
    "        'B': '1',\n",
    "        'L': '0',\n",
    "        'R': '1',\n",
    "    }\n",
    "    for key, value in switch_case.items():\n",
    "        string = string.replace(key, value)\n",
    "    \n",
    "    return string"
   ]
  },
  {
   "cell_type": "code",
   "execution_count": 3,
   "metadata": {},
   "outputs": [],
   "source": [
    "def partition(string):\n",
    "    \n",
    "    _row = string[0:7]\n",
    "    _col = string[7:]\n",
    "    \n",
    "    row = range(127)\n",
    "    col = range(7)\n",
    "\n",
    "    len_row = len(row)\n",
    "    \n",
    "    for code in _row:\n",
    "        if code =='0':\n",
    "            row = row[0:len_row//2]\n",
    "        elif code == '1':\n",
    "            row = row[len_row//2:]\n",
    "        \n",
    "        len_row = len(row)\n",
    "        \n",
    "\n",
    "    len_col = len(col)\n",
    "    for code in _col:\n",
    "        if code =='0':\n",
    "            col = col[0:len_col//2]\n",
    "        elif code == '1':\n",
    "            col = col[len_col//2:]\n",
    "        \n",
    "        len_col = len(col)\n",
    "    \n",
    "    try:\n",
    "        row=row[0]+1\n",
    "    except IndexError:\n",
    "        row=0\n",
    "    \n",
    "    try:\n",
    "        col=col[0]+1\n",
    "    except IndexError:\n",
    "        col=0\n",
    "\n",
    "    _id =(row*8)+(col)\n",
    "    return row, col, _id"
   ]
  },
  {
   "cell_type": "code",
   "execution_count": 4,
   "metadata": {
    "scrolled": true
   },
   "outputs": [],
   "source": [
    "# Test case\n",
    "\n",
    "_input = numpy.loadtxt('day-5-testcase', dtype=str, converters={ 0: lambda s: to_bin(s.decode('UTF-8'))})\n",
    "\n",
    "assert list(map(partition, _input)) == \\\n",
    "[(44, 5, 357), (70, 7, 567), (14, 7, 119), (102, 4, 820)]"
   ]
  },
  {
   "cell_type": "code",
   "execution_count": 5,
   "metadata": {},
   "outputs": [
    {
     "data": {
      "text/plain": [
       "(114, 7, 919)"
      ]
     },
     "execution_count": 5,
     "metadata": {},
     "output_type": "execute_result"
    }
   ],
   "source": [
    "# Jawaban part 1\n",
    "\n",
    "_input = numpy.loadtxt('day-5-input', dtype=str, converters={ 0: lambda s: to_bin(s.decode('UTF-8'))})\n",
    "\n",
    "output = list(map(partition, _input))\n",
    "max(output, key=lambda s: s[2])\n",
    "# answer\n",
    "# (114, 7, 919)"
   ]
  },
  {
   "cell_type": "code",
   "execution_count": 6,
   "metadata": {},
   "outputs": [
    {
     "data": {
      "text/plain": [
       "[642]"
      ]
     },
     "execution_count": 6,
     "metadata": {},
     "output_type": "execute_result"
    }
   ],
   "source": [
    "# Jawaban part 2\n",
    "\n",
    "output_id = map(lambda tpl: tpl[2], output)\n",
    "\n",
    "sorted_id = sorted(output_id)\n",
    "first_id = sorted_id[0]\n",
    "last_id = sorted_id[-1]\n",
    "\n",
    "all_id = range(first_id, last_id+1)\n",
    "# print(sorted_id)\n",
    "# print(first_id)\n",
    "# print(last_id)\n",
    "\n",
    "# print missing value on list id\n",
    "[ele for ele in all_id if ele not in sorted_id] \n",
    "\n",
    "# output\n",
    "# [642]"
   ]
  }
 ],
 "metadata": {
  "kernelspec": {
   "display_name": "Python 3",
   "language": "python",
   "name": "python3"
  },
  "language_info": {
   "codemirror_mode": {
    "name": "ipython",
    "version": 3
   },
   "file_extension": ".py",
   "mimetype": "text/x-python",
   "name": "python",
   "nbconvert_exporter": "python",
   "pygments_lexer": "ipython3",
   "version": "3.8.5"
  }
 },
 "nbformat": 4,
 "nbformat_minor": 4
}
