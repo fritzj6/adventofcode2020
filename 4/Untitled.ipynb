{
 "cells": [
  {
   "cell_type": "code",
   "execution_count": 1,
   "metadata": {},
   "outputs": [],
   "source": [
    "def open_file(file):\n",
    "    file = open(file)\n",
    "\n",
    "    lines = file.readlines()\n",
    "\n",
    "    _input = []\n",
    "    passport = ' '\n",
    "\n",
    "    for line in lines:\n",
    "        if line != '\\n':\n",
    "            passport += line.replace('\\n', ' ')\n",
    "        else:\n",
    "            _input.append(passport)\n",
    "            passport = ''\n",
    "\n",
    "    # passport terakhir harus di append juga\n",
    "    _input.append(passport)\n",
    "    \n",
    "    return _input"
   ]
  },
  {
   "cell_type": "markdown",
   "metadata": {},
   "source": [
    "Helper function untuk rule part 1"
   ]
  },
  {
   "cell_type": "code",
   "execution_count": 2,
   "metadata": {},
   "outputs": [],
   "source": [
    "import re\n",
    "\n",
    "def parse_passport1(passport):\n",
    "    rx_dict = {\n",
    "        'byr': re.compile(r'byr:(?P<byr>.+?\\s)'),\n",
    "        'iyr': re.compile(r'iyr:(?P<iyr>.+?\\s)'),\n",
    "        'eyr': re.compile(r'eyr:(?P<eyr>.+?\\s)'),\n",
    "        'hgt': re.compile(r'hgt:(?P<hgt>.+?\\s)'),\n",
    "        'hcl': re.compile(r'hcl:(?P<hcl>.+?\\s)'),\n",
    "        'ecl': re.compile(r'ecl:(?P<ecl>.+?\\s)'),\n",
    "        'pid': re.compile(r'pid:(?P<pid>.+?\\s)')\n",
    "    }\n",
    "    \n",
    "    out_dict = {'missing_key': []}\n",
    "    for key, rx in rx_dict.items():\n",
    "        match = rx.search(passport)\n",
    "        if match:\n",
    "            out_dict[key] = match.group(key).strip()\n",
    "        else:\n",
    "            out_dict['missing_key'].append(key)\n",
    "            \n",
    "    return dict( sorted(out_dict.items(), key=lambda x: x[0].lower()) )\n",
    "    "
   ]
  },
  {
   "cell_type": "markdown",
   "metadata": {},
   "source": [
    "Test helper function dengan contoh part 1"
   ]
  },
  {
   "cell_type": "code",
   "execution_count": 3,
   "metadata": {
    "scrolled": true
   },
   "outputs": [],
   "source": [
    "input_parsed = list(map(parse_passport1, open_file('day-4-test')))\n",
    "valid_passport = list(filter(lambda p: len(p['missing_key']) == 0, input_parsed))\n",
    "\n",
    "assert len(valid_passport) == 2"
   ]
  },
  {
   "cell_type": "code",
   "execution_count": 4,
   "metadata": {},
   "outputs": [
    {
     "data": {
      "text/plain": [
       "182"
      ]
     },
     "execution_count": 4,
     "metadata": {},
     "output_type": "execute_result"
    }
   ],
   "source": [
    "input_parsed = list(map(parse_passport1, open_file('day-4-input')))\n",
    "valid_passport = list(filter(lambda p: len(p['missing_key']) == 0, input_parsed))\n",
    "\n",
    "# Jawaban part 1\n",
    "len(valid_passport)\n",
    "# 182"
   ]
  },
  {
   "cell_type": "code",
   "execution_count": 9,
   "metadata": {},
   "outputs": [],
   "source": [
    "def rule_passport2(obj):\n",
    "\n",
    "    def height_rule(height):\n",
    "        rx = re.compile(r'(?P<value>\\d+)(?P<unit>\\w+)')\n",
    "        match = rx.search(height)\n",
    "        if match.group('unit') == 'cm':\n",
    "            return 150 <= int(match.group('value')) <= 193\n",
    "        elif match.group('unit') == 'in':\n",
    "            return 59 <= int(match.group('value')) <= 76\n",
    "        \n",
    "    \n",
    "    rules_dict = {\n",
    "        'byr': lambda s: 1920 <= int(s) <= 2002 ,\n",
    "        'iyr': lambda s: 2010 <= int(s) <= 2020 ,\n",
    "        'eyr': lambda s: 2020 <= int(s) <= 2030 ,\n",
    "        'hgt': lambda s: height_rule(s),\n",
    "        'hcl': lambda s: re.search(\"#[\\w\\d]{6}\", s),\n",
    "        'ecl': lambda s: s in ['amb', 'blu', 'brn', 'gry', 'grn', 'hzl', 'oth'],\n",
    "        'pid': lambda s: re.search(\"^\\d{9,9}$\", s)\n",
    "    }\n",
    "    \n",
    "    output_dict = {}\n",
    "    for key, rx in rules_dict.items():\n",
    "        if rules_dict[key](obj[key]):\n",
    "            output_dict[key] = True\n",
    "        else:\n",
    "            output_dict[key] = False\n",
    "    \n",
    "    return all(value for value in output_dict.values())\n"
   ]
  },
  {
   "cell_type": "code",
   "execution_count": 10,
   "metadata": {},
   "outputs": [],
   "source": [
    "from pprint import pprint \n",
    "input_parsed = list(map(parse_passport1, open_file('day-4-2-valid')))\n",
    "valid_passport = list(filter(lambda p: len(p['missing_key']) == 0, input_parsed))\n",
    "\n",
    "valid_passport\n",
    "valid_passport2 = list(map(rule_passport2, valid_passport))\n",
    "\n",
    "valid_passport2\n",
    "assert all(valid_passport) == True"
   ]
  },
  {
   "cell_type": "code",
   "execution_count": 11,
   "metadata": {},
   "outputs": [],
   "source": [
    "input_parsed = list(map(parse_passport1, open_file('day-4-2-invalid')))\n",
    "valid_passport = list(filter(lambda p: len(p['missing_key']) == 0, input_parsed))\n",
    "\n",
    "valid_passport\n",
    "valid_passport2 = list(map(rule_passport2, valid_passport))\n",
    "\n",
    "valid_passport2\n",
    "assert all(valid_passport2) == False"
   ]
  },
  {
   "cell_type": "code",
   "execution_count": 12,
   "metadata": {},
   "outputs": [
    {
     "data": {
      "text/plain": [
       "109"
      ]
     },
     "execution_count": 12,
     "metadata": {},
     "output_type": "execute_result"
    }
   ],
   "source": [
    "\n",
    "input_parsed = list(map(parse_passport1, open_file('day-4-input')))\n",
    "valid_passport = list(filter(lambda p: len(p['missing_key']) == 0, input_parsed))\n",
    "\n",
    "\n",
    "valid_passport2 = list(map(rule_passport2, valid_passport))\n",
    "\n",
    "len(list(filter(lambda s: s ==True, valid_passport2)))\n",
    "\n"
   ]
  }
 ],
 "metadata": {
  "kernelspec": {
   "display_name": "Python 3",
   "language": "python",
   "name": "python3"
  },
  "language_info": {
   "codemirror_mode": {
    "name": "ipython",
    "version": 3
   },
   "file_extension": ".py",
   "mimetype": "text/x-python",
   "name": "python",
   "nbconvert_exporter": "python",
   "pygments_lexer": "ipython3",
   "version": "3.8.5"
  }
 },
 "nbformat": 4,
 "nbformat_minor": 4
}
