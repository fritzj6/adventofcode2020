{
 "cells": [
  {
   "cell_type": "code",
   "execution_count": 1,
   "metadata": {},
   "outputs": [],
   "source": [
    "import numpy"
   ]
  },
  {
   "cell_type": "code",
   "execution_count": 2,
   "metadata": {},
   "outputs": [
    {
     "data": {
      "text/plain": [
       "[1, 8]"
      ]
     },
     "execution_count": 2,
     "metadata": {},
     "output_type": "execute_result"
    }
   ],
   "source": [
    "def convert_rules(str_:str):\n",
    "    return list(map(int, str_.split('-')))\n",
    "\n",
    "convert_rules('1-8')"
   ]
  },
  {
   "cell_type": "code",
   "execution_count": 3,
   "metadata": {},
   "outputs": [
    {
     "data": {
      "text/plain": [
       "True"
      ]
     },
     "execution_count": 3,
     "metadata": {},
     "output_type": "execute_result"
    }
   ],
   "source": [
    "def is_between(number, min, max):\n",
    "    if min <= number <= max:\n",
    "        return True\n",
    "    else:\n",
    "        return False\n",
    "\n",
    "is_between(7, *[1, 8])"
   ]
  },
  {
   "cell_type": "code",
   "execution_count": 4,
   "metadata": {},
   "outputs": [
    {
     "data": {
      "text/plain": [
       "True"
      ]
     },
     "execution_count": 4,
     "metadata": {},
     "output_type": "execute_result"
    }
   ],
   "source": [
    "def is_contain(substr, str_):\n",
    "    return substr in str_\n",
    "\n",
    "is_contain('n', 'dpwpmhknmnlglhjtrbpx')"
   ]
  },
  {
   "cell_type": "code",
   "execution_count": 5,
   "metadata": {},
   "outputs": [
    {
     "data": {
      "text/plain": [
       "array([['1-8', 'n:', 'dpwpmhknmnlglhjtrbpx'],\n",
       "       ['11-12', 'n:', 'frpknnndpntnncnnnnn'],\n",
       "       ['4-8', 't:', 'tmttdtnttkr'],\n",
       "       ...,\n",
       "       ['4-11', 'g:', 'zkxvrprgzxjcbg'],\n",
       "       ['11-14', 'g:', 'ggggggggggggggggg'],\n",
       "       ['6-7', 'q:', 'qqqqvqhq']], dtype='<U20')"
      ]
     },
     "execution_count": 5,
     "metadata": {},
     "output_type": "execute_result"
    }
   ],
   "source": [
    "_input = numpy.loadtxt('day-2-input', dtype=str, delimiter=\" \")\n",
    "_input"
   ]
  },
  {
   "cell_type": "code",
   "execution_count": 6,
   "metadata": {},
   "outputs": [
    {
     "data": {
      "text/plain": [
       "445"
      ]
     },
     "execution_count": 6,
     "metadata": {},
     "output_type": "execute_result"
    }
   ],
   "source": [
    "# Day 2 soal 1\n",
    "\n",
    "# For example, suppose you have the following list:\n",
    "\n",
    "# 1-3 a: abcde\n",
    "# 1-3 b: cdefg\n",
    "# 2-9 c: ccccccccc\n",
    "\n",
    "# Each line gives the password policy and then the password. The password policy indicates the lowest and highest number of times a given letter must appear for the password to be valid. For example, 1-3 a means that the password must contain a at least 1 time and at most 3 times.\n",
    "\n",
    "# In the above example, 2 passwords are valid. The middle password, cdefg, is not; it contains no instances of b, but needs at least 1. The first and third passwords are valid: they contain one a or nine c, both within the limits of their respective policies.\n",
    "\n",
    "# How many passwords are valid according to their policies?\n",
    "\n",
    "valid_password_count = 0\n",
    "\n",
    "for rules, char, passwd in _input:\n",
    "    char_ = char.strip(':')\n",
    "    rules_ = convert_rules(rules)\n",
    "    if not is_contain(char_, passwd):\n",
    "        continue\n",
    "    elif not is_between(passwd.count(char_), *rules_):\n",
    "        continue\n",
    "    else:\n",
    "        valid_password_count +=1\n",
    "        \n",
    "valid_password_count\n",
    "\n",
    "# output \n",
    "# 445"
   ]
  },
  {
   "cell_type": "code",
   "execution_count": 10,
   "metadata": {},
   "outputs": [
    {
     "name": "stdout",
     "output_type": "stream",
     "text": [
      "True\n",
      "False\n",
      "False\n"
     ]
    }
   ],
   "source": [
    "# Day 2 soal 2\n",
    "\n",
    "# Each policy actually describes two positions in the password, \n",
    "# where 1 means the first character, 2 means the second character, and so on. \n",
    "# (Be careful; Toboggan Corporate Policies have no concept of \"index zero\"!) \n",
    "\n",
    "# Exactly one of these positions must contain the given letter. Other occurrences of the letter are irrelevant for the purposes of policy enforcement.\n",
    "\n",
    "# Given the same example list from above:\n",
    "\n",
    "#     1-3 a: abcde is valid: position 1 contains a and position 3 does not.\n",
    "#     1-3 b: cdefg is invalid: neither position 1 nor position 3 contains b.\n",
    "#     2-9 c: ccccccccc is invalid: both position 2 and position 9 contain c.\n",
    "\n",
    "# How many passwords are valid according to the new interpretation of the policies?\n",
    "\n",
    "def is_in_position(substr, position, str_):\n",
    "    return_ = []\n",
    "    pos_1 = False\n",
    "    pos_2 = False\n",
    "    \n",
    "    if str_[position[0]-1] is substr:\n",
    "        pos_1=True\n",
    "    \n",
    "    if str_[position[1]-1] is substr:\n",
    "        pos_2=True\n",
    "        \n",
    "    return pos_1 ^ pos_2\n",
    "\n",
    "print(is_in_position('a', [1,3], 'abcde'))\n",
    "print(is_in_position('b', [1,3], 'cdefg'))\n",
    "print(is_in_position('c', [2,9], 'ccccccccc'))"
   ]
  },
  {
   "cell_type": "code",
   "execution_count": 11,
   "metadata": {},
   "outputs": [
    {
     "data": {
      "text/plain": [
       "491"
      ]
     },
     "execution_count": 11,
     "metadata": {},
     "output_type": "execute_result"
    }
   ],
   "source": [
    "valid_password_count = 0\n",
    "\n",
    "for rules, char, passwd in _input:\n",
    "    char_ = char.strip(':')\n",
    "    rules_ = convert_rules(rules)\n",
    "    if is_in_position(char_, rules_, passwd):\n",
    "        valid_password_count +=1\n",
    "        \n",
    "valid_password_count\n",
    "\n",
    "\n",
    "# output\n",
    "# 491"
   ]
  }
 ],
 "metadata": {
  "kernelspec": {
   "display_name": "Python 3",
   "language": "python",
   "name": "python3"
  },
  "language_info": {
   "codemirror_mode": {
    "name": "ipython",
    "version": 3
   },
   "file_extension": ".py",
   "mimetype": "text/x-python",
   "name": "python",
   "nbconvert_exporter": "python",
   "pygments_lexer": "ipython3",
   "version": "3.8.5"
  }
 },
 "nbformat": 4,
 "nbformat_minor": 4
}
