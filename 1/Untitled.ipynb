{
 "cells": [
  {
   "cell_type": "code",
   "execution_count": 1,
   "metadata": {},
   "outputs": [],
   "source": [
    "import numpy"
   ]
  },
  {
   "cell_type": "code",
   "execution_count": 2,
   "metadata": {},
   "outputs": [],
   "source": [
    "list_input = numpy.loadtxt('day-1-input', dtype=int)"
   ]
  },
  {
   "cell_type": "markdown",
   "metadata": {},
   "source": [
    "Optimisasi sederhana, buang semua data yang lebih besar dari 2020 agar input lebih pendek"
   ]
  },
  {
   "cell_type": "code",
   "execution_count": 3,
   "metadata": {},
   "outputs": [],
   "source": [
    "list_input = list(filter(lambda s: s <=2020, list_input))"
   ]
  },
  {
   "cell_type": "code",
   "execution_count": 4,
   "metadata": {},
   "outputs": [],
   "source": [
    "len_ = len(list_input)"
   ]
  },
  {
   "cell_type": "code",
   "execution_count": 5,
   "metadata": {},
   "outputs": [
    {
     "name": "stdout",
     "output_type": "stream",
     "text": [
      "1864*156 290784\n",
      "156*1864 290784\n",
      "CPU times: user 11.5 ms, sys: 2.46 ms, total: 13.9 ms\n",
      "Wall time: 13.4 ms\n"
     ]
    }
   ],
   "source": [
    "%%time\n",
    "\n",
    "# Day 1 soal nomor 1\n",
    "for i in range(len_):\n",
    "    for j in range(len_):\n",
    "        if list_input[i]+list_input[j]==2020:\n",
    "            print(f\"{list_input[i]}*{list_input[j]}\", list_input[i]*list_input[j])\n",
    "            break  # langsung di break kalau udah ketemu\n",
    "            \n",
    "# Output\n",
    "# 1864*156 290784\n",
    "# 156*1864 290784\n"
   ]
  },
  {
   "cell_type": "code",
   "execution_count": 6,
   "metadata": {
    "scrolled": true
   },
   "outputs": [
    {
     "name": "stdout",
     "output_type": "stream",
     "text": [
      "279*1220*521 177337980\n",
      "279*521*1220 177337980\n",
      "1220*279*521 177337980\n",
      "1220*521*279 177337980\n",
      "521*279*1220 177337980\n",
      "521*1220*279 177337980\n",
      "CPU times: user 3.56 s, sys: 0 ns, total: 3.56 s\n",
      "Wall time: 3.55 s\n"
     ]
    }
   ],
   "source": [
    "%%time\n",
    "# Day 1 soal nomor 2\n",
    "\n",
    "for i in range(len_):\n",
    "    for j in range(len_):\n",
    "        for k in range(len_):\n",
    "            if list_input[i]+list_input[j]+list_input[k]==2020:\n",
    "                print(f\"{list_input[i]}*{list_input[j]}*{list_input[k]}\", list_input[i]*list_input[j]*list_input[k])\n",
    "                break  # langsung di break kalau udah ketemu\n",
    "\n",
    "                \n",
    "# Output\n",
    "# 279*1220*521 177337980\n",
    "# 279*521*1220 177337980\n",
    "# 1220*279*521 177337980\n",
    "# 1220*521*279 177337980\n",
    "# 521*279*1220 177337980\n",
    "# 521*1220*279 177337980\n",
    "\n"
   ]
  },
  {
   "cell_type": "markdown",
   "metadata": {},
   "source": [
    "Dengan combinations kita bisa melakukan iterasi diatas lebih cepat, karena tidak ada pengulangan perhitungan"
   ]
  },
  {
   "cell_type": "code",
   "execution_count": 7,
   "metadata": {},
   "outputs": [],
   "source": [
    "from itertools import combinations"
   ]
  },
  {
   "cell_type": "code",
   "execution_count": 8,
   "metadata": {},
   "outputs": [
    {
     "name": "stdout",
     "output_type": "stream",
     "text": [
      "1864 and 156 sum is 2020\n",
      "Multiplying 1864 and 156 is 290784\n",
      "CPU times: user 11.2 ms, sys: 0 ns, total: 11.2 ms\n",
      "Wall time: 10.9 ms\n"
     ]
    }
   ],
   "source": [
    "%%time\n",
    "\n",
    "for numbers in combinations(list_input, 2):\n",
    "    if sum(numbers) == 2020:\n",
    "        first_choice,second_choice,  = numbers\n",
    "        multiple_numbers = first_choice * second_choice\n",
    "        print(f\"{first_choice} and {second_choice} sum is 2020\")\n",
    "        print(\n",
    "            f\"Multiplying {first_choice} and {second_choice} is {multiple_numbers}\")\n",
    "        break  # langsung di break kalau udah ketemu"
   ]
  },
  {
   "cell_type": "code",
   "execution_count": 9,
   "metadata": {},
   "outputs": [
    {
     "name": "stdout",
     "output_type": "stream",
     "text": [
      "279 and 1220 and 521 sum is 2020\n",
      "Multiplying 279 and 1220 and 521 is 177337980\n",
      "CPU times: user 579 ms, sys: 0 ns, total: 579 ms\n",
      "Wall time: 578 ms\n"
     ]
    }
   ],
   "source": [
    "%%time\n",
    "\n",
    "for numbers in combinations(list_input, 3):\n",
    "    if sum(numbers) == 2020:\n",
    "        first_choice,second_choice, third_choice = numbers\n",
    "        multiple_numbers = first_choice * second_choice * third_choice\n",
    "        print(f\"{first_choice} and {second_choice} and {third_choice} sum is 2020\")\n",
    "        print(\n",
    "            f\"Multiplying {first_choice} and {second_choice} and {third_choice} is {multiple_numbers}\")\n",
    "        break  # langsung di break kalau udah ketemu"
   ]
  }
 ],
 "metadata": {
  "kernelspec": {
   "display_name": "Python 3",
   "language": "python",
   "name": "python3"
  },
  "language_info": {
   "codemirror_mode": {
    "name": "ipython",
    "version": 3
   },
   "file_extension": ".py",
   "mimetype": "text/x-python",
   "name": "python",
   "nbconvert_exporter": "python",
   "pygments_lexer": "ipython3",
   "version": "3.8.5"
  }
 },
 "nbformat": 4,
 "nbformat_minor": 4
}
