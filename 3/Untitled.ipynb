{
 "cells": [
  {
   "cell_type": "code",
   "execution_count": 1,
   "metadata": {},
   "outputs": [],
   "source": [
    "import stackprinter\n",
    "stackprinter.set_excepthook(style='lightbg')"
   ]
  },
  {
   "cell_type": "code",
   "execution_count": 2,
   "metadata": {},
   "outputs": [],
   "source": [
    "import numpy"
   ]
  },
  {
   "cell_type": "code",
   "execution_count": 3,
   "metadata": {},
   "outputs": [
    {
     "data": {
      "text/plain": [
       "['..##.......',\n",
       " '#...#...#..',\n",
       " '.#....#..#.',\n",
       " '..#.#...#.#',\n",
       " '.#...##..#.',\n",
       " '..#.##.....',\n",
       " '.#.#.#....#',\n",
       " '.#........#',\n",
       " '#.##...#...',\n",
       " '#...##....#',\n",
       " '.#..#...#.#']"
      ]
     },
     "execution_count": 3,
     "metadata": {},
     "output_type": "execute_result"
    }
   ],
   "source": [
    "_input = numpy.loadtxt('day-3-testcase', dtype=str, comments=None).tolist()\n",
    "\n",
    "_input"
   ]
  },
  {
   "cell_type": "code",
   "execution_count": 4,
   "metadata": {
    "scrolled": true
   },
   "outputs": [],
   "source": [
    "def traverse(_input, inc_right, inc_down):\n",
    "    row_count = len(_input)\n",
    "    col_count = len(_input[0])\n",
    "    walk_right = 0\n",
    "    walk_down = inc_down\n",
    "    tree_count = 0\n",
    "\n",
    "    for row in range(0, row_count, inc_down):\n",
    "\n",
    "        walk_right += inc_right\n",
    "\n",
    "        if walk_right >= col_count:\n",
    "            walk_right = walk_right - col_count  # reset to zero karena repeat infinity ke kanan\n",
    "\n",
    "        if row+walk_down >= row_count:\n",
    "            break\n",
    "\n",
    "        if _input[row+walk_down][walk_right] == '#':\n",
    "            tree_count += 1\n",
    "    \n",
    "    print(tree_count)\n",
    "    return tree_count\n"
   ]
  },
  {
   "cell_type": "code",
   "execution_count": 5,
   "metadata": {
    "scrolled": true
   },
   "outputs": [
    {
     "name": "stdout",
     "output_type": "stream",
     "text": [
      "2\n",
      "7\n",
      "3\n",
      "4\n",
      "2\n"
     ]
    }
   ],
   "source": [
    "# Test untuk output sudah sesuai dengan example\n",
    "\n",
    "assert traverse(_input, 1, 1) == 2\n",
    "assert traverse(_input, 3, 1) == 7  # Ini soal nomor 1\n",
    "assert traverse(_input, 5, 1) == 3\n",
    "assert traverse(_input, 7, 1) == 4\n",
    "assert traverse(_input, 1, 2) == 2"
   ]
  },
  {
   "cell_type": "code",
   "execution_count": 6,
   "metadata": {},
   "outputs": [
    {
     "name": "stdout",
     "output_type": "stream",
     "text": [
      "191\n"
     ]
    },
    {
     "data": {
      "text/plain": [
       "191"
      ]
     },
     "execution_count": 6,
     "metadata": {},
     "output_type": "execute_result"
    }
   ],
   "source": [
    "# Jawaban untuk soal 1\n",
    "\n",
    "_input = numpy.loadtxt('day-3-input', dtype=str, comments=None).tolist()\n",
    "\n",
    "traverse(_input, 3, 1)"
   ]
  },
  {
   "cell_type": "code",
   "execution_count": 7,
   "metadata": {},
   "outputs": [
    {
     "name": "stdout",
     "output_type": "stream",
     "text": [
      "60\n",
      "191\n",
      "64\n",
      "63\n",
      "32\n"
     ]
    },
    {
     "data": {
      "text/plain": [
       "1478615040"
      ]
     },
     "execution_count": 7,
     "metadata": {},
     "output_type": "execute_result"
    }
   ],
   "source": [
    "# Jawaban soal 2\n",
    "\n",
    "traverse(_input, 1, 1)\n",
    "traverse(_input, 3, 1)\n",
    "traverse(_input, 5, 1)\n",
    "traverse(_input, 7, 1)\n",
    "traverse(_input, 1, 2)\n",
    "\n",
    "60*191*64*63*32"
   ]
  }
 ],
 "metadata": {
  "kernelspec": {
   "display_name": "Python 3",
   "language": "python",
   "name": "python3"
  },
  "language_info": {
   "codemirror_mode": {
    "name": "ipython",
    "version": 3
   },
   "file_extension": ".py",
   "mimetype": "text/x-python",
   "name": "python",
   "nbconvert_exporter": "python",
   "pygments_lexer": "ipython3",
   "version": "3.8.5"
  }
 },
 "nbformat": 4,
 "nbformat_minor": 4
}
